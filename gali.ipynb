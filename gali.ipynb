{
 "cells": [
  {
   "cell_type": "code",
   "execution_count": null,
   "id": "23ddc45d",
   "metadata": {},
   "outputs": [],
   "source": [
    "import pandas as pd\n",
    "import matplotlib.pyplot as plt\n",
    "from pathlib import Path\n",
    "from sklearn.preprocessing import MinMaxScaler\n",
    "import seaborn as sns\n",
    "\n",
    "from pathlib import Path\n",
    "\n",
    "project_root = Path(\"C:/Code/Junc\")  # set your actual project root here\n",
    "input_file = project_root / \"data\" / \"uber_hackathon_v2_mock_data.xlsx\"\n",
    "output_file = project_root / \"data\" / \"hourly_avg_combined_score.csv\"\n",
    "\n",
    "\n"
   ]
  },
  {
   "cell_type": "markdown",
   "id": "d6d382bd",
   "metadata": {},
   "source": [
    "## Heuristica 1: Trip Score"
   ]
  },
  {
   "cell_type": "code",
   "execution_count": 11,
   "id": "85e887ba",
   "metadata": {},
   "outputs": [],
   "source": [
    "def trip_score(earning, tips, km, alpha=0.5):\n",
    "    \"\"\"\n",
    "    Compute a score for a trip based on revenue minus distance penalty.\n",
    "\n",
    "    Parameters:\n",
    "        earning (float): Net earning of the trip\n",
    "        tips (float): Tips for the trip\n",
    "        km (float): Distance traveled in kilometers\n",
    "        alpha (float): Weight of distance penalty per km (default 0.5)\n",
    "\n",
    "    Returns:\n",
    "        float: Trip score\n",
    "    \"\"\"\n",
    "    revenue = earning + tips\n",
    "    score = revenue - alpha * km\n",
    "    return score\n"
   ]
  },
  {
   "cell_type": "markdown",
   "id": "a09e3f7c",
   "metadata": {},
   "source": [
    "## Compute average sum of trip scores of a driver in a certain hour of the week \n"
   ]
  },
  {
   "cell_type": "code",
   "execution_count": 12,
   "id": "171db6d9",
   "metadata": {},
   "outputs": [
    {
     "ename": "FileNotFoundError",
     "evalue": "[Errno 2] No such file or directory: 'c:\\\\Code\\\\Junc\\\\Junction-2025\\\\data'",
     "output_type": "error",
     "traceback": [
      "\u001b[31m---------------------------------------------------------------------------\u001b[39m",
      "\u001b[31mFileNotFoundError\u001b[39m                         Traceback (most recent call last)",
      "\u001b[36mCell\u001b[39m\u001b[36m \u001b[39m\u001b[32mIn[12]\u001b[39m\u001b[32m, line 56\u001b[39m\n\u001b[32m     51\u001b[39m     \u001b[38;5;28mprint\u001b[39m(\u001b[33mf\u001b[39m\u001b[33m\"\u001b[39m\u001b[33mSaved combined hourly average scores (rides + eats) to: \u001b[39m\u001b[38;5;132;01m{\u001b[39;00moutput_file\u001b[38;5;132;01m}\u001b[39;00m\u001b[33m\"\u001b[39m)\n\u001b[32m     53\u001b[39m     \u001b[38;5;28;01mreturn\u001b[39;00m hourly_avg_score\n\u001b[32m---> \u001b[39m\u001b[32m56\u001b[39m hourly_avg_all = \u001b[43mcompute_hourly_avg_score_both\u001b[49m\u001b[43m(\u001b[49m\u001b[43minput_path\u001b[49m\u001b[43m,\u001b[49m\u001b[43m \u001b[49m\u001b[43moutput_path\u001b[49m\u001b[43m,\u001b[49m\u001b[43m \u001b[49m\u001b[43malpha\u001b[49m\u001b[43m=\u001b[49m\u001b[32;43m0.5\u001b[39;49m\u001b[43m)\u001b[49m\n",
      "\u001b[36mCell\u001b[39m\u001b[36m \u001b[39m\u001b[32mIn[12]\u001b[39m\u001b[32m, line 16\u001b[39m, in \u001b[36mcompute_hourly_avg_score_both\u001b[39m\u001b[34m(input_file, output_file, alpha)\u001b[39m\n\u001b[32m     13\u001b[39m combined_trips = []\n\u001b[32m     15\u001b[39m \u001b[38;5;28;01mfor\u001b[39;00m sheet_name \u001b[38;5;129;01min\u001b[39;00m [\u001b[33m\"\u001b[39m\u001b[33mrides_trips\u001b[39m\u001b[33m\"\u001b[39m, \u001b[33m\"\u001b[39m\u001b[33meats_orders\u001b[39m\u001b[33m\"\u001b[39m]:\n\u001b[32m---> \u001b[39m\u001b[32m16\u001b[39m     trips = \u001b[43mpd\u001b[49m\u001b[43m.\u001b[49m\u001b[43mread_excel\u001b[49m\u001b[43m(\u001b[49m\u001b[43minput_file\u001b[49m\u001b[43m,\u001b[49m\u001b[43m \u001b[49m\u001b[43msheet_name\u001b[49m\u001b[43m=\u001b[49m\u001b[43msheet_name\u001b[49m\u001b[43m)\u001b[49m\n\u001b[32m     17\u001b[39m     trips[\u001b[33m'\u001b[39m\u001b[33mstart_time\u001b[39m\u001b[33m'\u001b[39m] = pd.to_datetime(trips[\u001b[33m'\u001b[39m\u001b[33mstart_time\u001b[39m\u001b[33m'\u001b[39m])\n\u001b[32m     19\u001b[39m     \u001b[38;5;28;01mif\u001b[39;00m sheet_name == \u001b[33m\"\u001b[39m\u001b[33mrides_trips\u001b[39m\u001b[33m\"\u001b[39m:\n",
      "\u001b[36mFile \u001b[39m\u001b[32m~\\AppData\\Local\\Packages\\PythonSoftwareFoundation.Python.3.13_qbz5n2kfra8p0\\LocalCache\\local-packages\\Python313\\site-packages\\pandas\\io\\excel\\_base.py:495\u001b[39m, in \u001b[36mread_excel\u001b[39m\u001b[34m(io, sheet_name, header, names, index_col, usecols, dtype, engine, converters, true_values, false_values, skiprows, nrows, na_values, keep_default_na, na_filter, verbose, parse_dates, date_parser, date_format, thousands, decimal, comment, skipfooter, storage_options, dtype_backend, engine_kwargs)\u001b[39m\n\u001b[32m    493\u001b[39m \u001b[38;5;28;01mif\u001b[39;00m \u001b[38;5;129;01mnot\u001b[39;00m \u001b[38;5;28misinstance\u001b[39m(io, ExcelFile):\n\u001b[32m    494\u001b[39m     should_close = \u001b[38;5;28;01mTrue\u001b[39;00m\n\u001b[32m--> \u001b[39m\u001b[32m495\u001b[39m     io = \u001b[43mExcelFile\u001b[49m\u001b[43m(\u001b[49m\n\u001b[32m    496\u001b[39m \u001b[43m        \u001b[49m\u001b[43mio\u001b[49m\u001b[43m,\u001b[49m\n\u001b[32m    497\u001b[39m \u001b[43m        \u001b[49m\u001b[43mstorage_options\u001b[49m\u001b[43m=\u001b[49m\u001b[43mstorage_options\u001b[49m\u001b[43m,\u001b[49m\n\u001b[32m    498\u001b[39m \u001b[43m        \u001b[49m\u001b[43mengine\u001b[49m\u001b[43m=\u001b[49m\u001b[43mengine\u001b[49m\u001b[43m,\u001b[49m\n\u001b[32m    499\u001b[39m \u001b[43m        \u001b[49m\u001b[43mengine_kwargs\u001b[49m\u001b[43m=\u001b[49m\u001b[43mengine_kwargs\u001b[49m\u001b[43m,\u001b[49m\n\u001b[32m    500\u001b[39m \u001b[43m    \u001b[49m\u001b[43m)\u001b[49m\n\u001b[32m    501\u001b[39m \u001b[38;5;28;01melif\u001b[39;00m engine \u001b[38;5;129;01mand\u001b[39;00m engine != io.engine:\n\u001b[32m    502\u001b[39m     \u001b[38;5;28;01mraise\u001b[39;00m \u001b[38;5;167;01mValueError\u001b[39;00m(\n\u001b[32m    503\u001b[39m         \u001b[33m\"\u001b[39m\u001b[33mEngine should not be specified when passing \u001b[39m\u001b[33m\"\u001b[39m\n\u001b[32m    504\u001b[39m         \u001b[33m\"\u001b[39m\u001b[33man ExcelFile - ExcelFile already has the engine set\u001b[39m\u001b[33m\"\u001b[39m\n\u001b[32m    505\u001b[39m     )\n",
      "\u001b[36mFile \u001b[39m\u001b[32m~\\AppData\\Local\\Packages\\PythonSoftwareFoundation.Python.3.13_qbz5n2kfra8p0\\LocalCache\\local-packages\\Python313\\site-packages\\pandas\\io\\excel\\_base.py:1550\u001b[39m, in \u001b[36mExcelFile.__init__\u001b[39m\u001b[34m(self, path_or_buffer, engine, storage_options, engine_kwargs)\u001b[39m\n\u001b[32m   1548\u001b[39m     ext = \u001b[33m\"\u001b[39m\u001b[33mxls\u001b[39m\u001b[33m\"\u001b[39m\n\u001b[32m   1549\u001b[39m \u001b[38;5;28;01melse\u001b[39;00m:\n\u001b[32m-> \u001b[39m\u001b[32m1550\u001b[39m     ext = \u001b[43minspect_excel_format\u001b[49m\u001b[43m(\u001b[49m\n\u001b[32m   1551\u001b[39m \u001b[43m        \u001b[49m\u001b[43mcontent_or_path\u001b[49m\u001b[43m=\u001b[49m\u001b[43mpath_or_buffer\u001b[49m\u001b[43m,\u001b[49m\u001b[43m \u001b[49m\u001b[43mstorage_options\u001b[49m\u001b[43m=\u001b[49m\u001b[43mstorage_options\u001b[49m\n\u001b[32m   1552\u001b[39m \u001b[43m    \u001b[49m\u001b[43m)\u001b[49m\n\u001b[32m   1553\u001b[39m     \u001b[38;5;28;01mif\u001b[39;00m ext \u001b[38;5;129;01mis\u001b[39;00m \u001b[38;5;28;01mNone\u001b[39;00m:\n\u001b[32m   1554\u001b[39m         \u001b[38;5;28;01mraise\u001b[39;00m \u001b[38;5;167;01mValueError\u001b[39;00m(\n\u001b[32m   1555\u001b[39m             \u001b[33m\"\u001b[39m\u001b[33mExcel file format cannot be determined, you must specify \u001b[39m\u001b[33m\"\u001b[39m\n\u001b[32m   1556\u001b[39m             \u001b[33m\"\u001b[39m\u001b[33man engine manually.\u001b[39m\u001b[33m\"\u001b[39m\n\u001b[32m   1557\u001b[39m         )\n",
      "\u001b[36mFile \u001b[39m\u001b[32m~\\AppData\\Local\\Packages\\PythonSoftwareFoundation.Python.3.13_qbz5n2kfra8p0\\LocalCache\\local-packages\\Python313\\site-packages\\pandas\\io\\excel\\_base.py:1402\u001b[39m, in \u001b[36minspect_excel_format\u001b[39m\u001b[34m(content_or_path, storage_options)\u001b[39m\n\u001b[32m   1399\u001b[39m \u001b[38;5;28;01mif\u001b[39;00m \u001b[38;5;28misinstance\u001b[39m(content_or_path, \u001b[38;5;28mbytes\u001b[39m):\n\u001b[32m   1400\u001b[39m     content_or_path = BytesIO(content_or_path)\n\u001b[32m-> \u001b[39m\u001b[32m1402\u001b[39m \u001b[38;5;28;01mwith\u001b[39;00m \u001b[43mget_handle\u001b[49m\u001b[43m(\u001b[49m\n\u001b[32m   1403\u001b[39m \u001b[43m    \u001b[49m\u001b[43mcontent_or_path\u001b[49m\u001b[43m,\u001b[49m\u001b[43m \u001b[49m\u001b[33;43m\"\u001b[39;49m\u001b[33;43mrb\u001b[39;49m\u001b[33;43m\"\u001b[39;49m\u001b[43m,\u001b[49m\u001b[43m \u001b[49m\u001b[43mstorage_options\u001b[49m\u001b[43m=\u001b[49m\u001b[43mstorage_options\u001b[49m\u001b[43m,\u001b[49m\u001b[43m \u001b[49m\u001b[43mis_text\u001b[49m\u001b[43m=\u001b[49m\u001b[38;5;28;43;01mFalse\u001b[39;49;00m\n\u001b[32m   1404\u001b[39m \u001b[43m\u001b[49m\u001b[43m)\u001b[49m \u001b[38;5;28;01mas\u001b[39;00m handle:\n\u001b[32m   1405\u001b[39m     stream = handle.handle\n\u001b[32m   1406\u001b[39m     stream.seek(\u001b[32m0\u001b[39m)\n",
      "\u001b[36mFile \u001b[39m\u001b[32m~\\AppData\\Local\\Packages\\PythonSoftwareFoundation.Python.3.13_qbz5n2kfra8p0\\LocalCache\\local-packages\\Python313\\site-packages\\pandas\\io\\common.py:882\u001b[39m, in \u001b[36mget_handle\u001b[39m\u001b[34m(path_or_buf, mode, encoding, compression, memory_map, is_text, errors, storage_options)\u001b[39m\n\u001b[32m    873\u001b[39m         handle = \u001b[38;5;28mopen\u001b[39m(\n\u001b[32m    874\u001b[39m             handle,\n\u001b[32m    875\u001b[39m             ioargs.mode,\n\u001b[32m   (...)\u001b[39m\u001b[32m    878\u001b[39m             newline=\u001b[33m\"\u001b[39m\u001b[33m\"\u001b[39m,\n\u001b[32m    879\u001b[39m         )\n\u001b[32m    880\u001b[39m     \u001b[38;5;28;01melse\u001b[39;00m:\n\u001b[32m    881\u001b[39m         \u001b[38;5;66;03m# Binary mode\u001b[39;00m\n\u001b[32m--> \u001b[39m\u001b[32m882\u001b[39m         handle = \u001b[38;5;28;43mopen\u001b[39;49m\u001b[43m(\u001b[49m\u001b[43mhandle\u001b[49m\u001b[43m,\u001b[49m\u001b[43m \u001b[49m\u001b[43mioargs\u001b[49m\u001b[43m.\u001b[49m\u001b[43mmode\u001b[49m\u001b[43m)\u001b[49m\n\u001b[32m    883\u001b[39m     handles.append(handle)\n\u001b[32m    885\u001b[39m \u001b[38;5;66;03m# Convert BytesIO or file objects passed with an encoding\u001b[39;00m\n",
      "\u001b[31mFileNotFoundError\u001b[39m: [Errno 2] No such file or directory: 'c:\\\\Code\\\\Junc\\\\Junction-2025\\\\data'"
     ]
    }
   ],
   "source": [
    "\n",
    "# --- Function to compute hour of the week ---\n",
    "def compute_hour_of_week(timestamp):\n",
    "    day_of_week = timestamp.dayofweek  # Monday=0\n",
    "    hour = timestamp.hour\n",
    "    return day_of_week * 24 + hour  # 0..167\n",
    "\n",
    "# --- Main function for both rides and eats ---\n",
    "def compute_hourly_avg_score_both(input_file, output_file, alpha=0.5):\n",
    "    \"\"\"\n",
    "    Compute hourly average scores for both rides and eats earners\n",
    "    and save to a single CSV.\n",
    "    \"\"\"\n",
    "    combined_trips = []\n",
    "\n",
    "    for sheet_name in [\"rides_trips\", \"eats_orders\"]:\n",
    "        trips = pd.read_excel(input_file, sheet_name=sheet_name)\n",
    "        trips['start_time'] = pd.to_datetime(trips['start_time'])\n",
    "\n",
    "        if sheet_name == \"rides_trips\":\n",
    "            trips['score'] = trip_score(trips['net_earnings'], trips['tips'], trips['distance_km'], alpha)\n",
    "            trips = trips.rename(columns={'driver_id':'earner_id'})\n",
    "        else:  # eats_orders\n",
    "            trips['score'] = trip_score(trips['net_earnings'], trips['tip_eur'], trips['distance_km'], alpha)\n",
    "            trips = trips.rename(columns={'courier_id':'earner_id'})\n",
    "\n",
    "        trips['week'] = trips['start_time'].dt.isocalendar().week\n",
    "        trips['job_hour'] = trips['start_time'].apply(compute_hour_of_week)\n",
    "        combined_trips.append(trips[['earner_id','week','job_hour','score']])\n",
    "\n",
    "    # Combine rides and eats\n",
    "    all_trips = pd.concat(combined_trips, ignore_index=True)\n",
    "\n",
    "    # Sum per earner, week, hour\n",
    "    earner_week_hour = all_trips.groupby(['earner_id', 'week', 'job_hour']).agg(\n",
    "        total_score=('score','sum')\n",
    "    ).reset_index()\n",
    "\n",
    "    # Average across weeks per earner per hour\n",
    "    earner_hour_avg = earner_week_hour.groupby(['earner_id', 'job_hour']).agg(\n",
    "        avg_score_per_hour=('total_score', 'mean')\n",
    "    ).reset_index()\n",
    "\n",
    "    # Average across earners per hour\n",
    "    hourly_avg_score = earner_hour_avg.groupby('job_hour').agg(\n",
    "        avg_score_per_earner=('avg_score_per_hour','mean')\n",
    "    ).reset_index()\n",
    "\n",
    "    # Save to CSV\n",
    "    output_file = Path(output_file) \n",
    "    hourly_avg_score.to_csv(output_file, index=False)\n",
    "    print(f\"Saved combined hourly average scores (rides + eats) to: {output_file}\")\n",
    "\n",
    "    return hourly_avg_score\n",
    "\n",
    "\n",
    "hourly_avg_all = compute_hourly_avg_score_both(input_path, output_path, alpha=0.5)\n"
   ]
  },
  {
   "cell_type": "markdown",
   "id": "775cae9e",
   "metadata": {},
   "source": [
    "## Plot the average score of each hour"
   ]
  },
  {
   "cell_type": "code",
   "execution_count": null,
   "id": "db21e069",
   "metadata": {},
   "outputs": [],
   "source": [
    "\n",
    "plt.figure(figsize=(16,6))\n",
    "sns.set_style(\"whitegrid\")\n",
    "\n",
    "# Line plot\n",
    "sns.lineplot(data=hourly_avg_all, x='job_hour', y='avg_score_per_earner', marker='o', color='royalblue')\n",
    "\n",
    "# Labels and title\n",
    "plt.xlabel(\"Hour of the Week (0=Monday 00:00)\")\n",
    "plt.ylabel(\"Average Score per Earner\")\n",
    "plt.title(\"Average Hourly Score per Earner Across the Week\")\n",
    "plt.xticks(ticks=range(0, 168, 12))  # show every 12th hour for readability\n",
    "plt.xlim(0, 167)\n",
    "\n",
    "# Optional: highlight weekdays vs weekends\n",
    "plt.axvspan(0, 119, color='lightgray', alpha=0.1)  # Mon-Fri (0-119)\n",
    "plt.axvspan(120, 167, color='orange', alpha=0.05)  # Sat-Sun (120-167)\n",
    "\n",
    "plt.tight_layout()\n",
    "plt.show()\n"
   ]
  }
 ],
 "metadata": {
  "kernelspec": {
   "display_name": "Python 3",
   "language": "python",
   "name": "python3"
  },
  "language_info": {
   "codemirror_mode": {
    "name": "ipython",
    "version": 3
   },
   "file_extension": ".py",
   "mimetype": "text/x-python",
   "name": "python",
   "nbconvert_exporter": "python",
   "pygments_lexer": "ipython3",
   "version": "3.13.7"
  }
 },
 "nbformat": 4,
 "nbformat_minor": 5
}
