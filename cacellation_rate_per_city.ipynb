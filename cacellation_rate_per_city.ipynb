{
 "cells": [
  {
   "cell_type": "markdown",
   "id": "ae61788d",
   "metadata": {},
   "source": [
    "# Init"
   ]
  },
  {
   "cell_type": "code",
   "execution_count": 7,
   "id": "9366fee7",
   "metadata": {},
   "outputs": [],
   "source": [
    "# ---------- Import packages ----------\n",
    "import pandas as pd\n",
    "from pathlib import Path\n",
    "\n",
    "# ---------- Open CSV files ----------\n",
    "project_root = Path.cwd()\n",
    "\n",
    "# Data folder\n",
    "data_dir = project_root / \"data\"\n",
    "\n",
    "# Input CSVs\n",
    "cancellation_rates_csv = data_dir / \"uber_hackathon_v2_mock_data.xlsx - cancellation_rates.csv\"\n",
    "\n",
    "# Output CSVs\n",
    "output_file = data_dir / \"cacellation_rates_per_city.csv\""
   ]
  },
  {
   "cell_type": "markdown",
   "id": "7994a489",
   "metadata": {},
   "source": [
    "# Get average cancellation percentage"
   ]
  },
  {
   "cell_type": "code",
   "execution_count": 28,
   "id": "5b5772de",
   "metadata": {},
   "outputs": [
    {
     "name": "stdout",
     "output_type": "stream",
     "text": [
      "Saved grouped data to: d:\\Projects\\Junction-2025\\data\\cacellation_rates_per_city.csv\n"
     ]
    },
    {
     "data": {
      "text/html": [
       "<div>\n",
       "<style scoped>\n",
       "    .dataframe tbody tr th:only-of-type {\n",
       "        vertical-align: middle;\n",
       "    }\n",
       "\n",
       "    .dataframe tbody tr th {\n",
       "        vertical-align: top;\n",
       "    }\n",
       "\n",
       "    .dataframe thead th {\n",
       "        text-align: right;\n",
       "    }\n",
       "</style>\n",
       "<table border=\"1\" class=\"dataframe\">\n",
       "  <thead>\n",
       "    <tr style=\"text-align: right;\">\n",
       "      <th></th>\n",
       "      <th>city_id</th>\n",
       "      <th>avg_cancellation_rate_pct</th>\n",
       "    </tr>\n",
       "  </thead>\n",
       "  <tbody>\n",
       "    <tr>\n",
       "      <th>0</th>\n",
       "      <td>1</td>\n",
       "      <td>3.791827</td>\n",
       "    </tr>\n",
       "    <tr>\n",
       "      <th>1</th>\n",
       "      <td>2</td>\n",
       "      <td>3.690800</td>\n",
       "    </tr>\n",
       "    <tr>\n",
       "      <th>2</th>\n",
       "      <td>3</td>\n",
       "      <td>3.874991</td>\n",
       "    </tr>\n",
       "    <tr>\n",
       "      <th>3</th>\n",
       "      <td>4</td>\n",
       "      <td>3.794991</td>\n",
       "    </tr>\n",
       "    <tr>\n",
       "      <th>4</th>\n",
       "      <td>5</td>\n",
       "      <td>3.712970</td>\n",
       "    </tr>\n",
       "  </tbody>\n",
       "</table>\n",
       "</div>"
      ],
      "text/plain": [
       "   city_id  avg_cancellation_rate_pct\n",
       "0        1                   3.791827\n",
       "1        2                   3.690800\n",
       "2        3                   3.874991\n",
       "3        4                   3.794991\n",
       "4        5                   3.712970"
      ]
     },
     "execution_count": 28,
     "metadata": {},
     "output_type": "execute_result"
    }
   ],
   "source": [
    "def compute_average_cancellation_per_city(cancellation_rates_csv, output_file):\n",
    "  data_frame = pd.read_csv(cancellation_rates_csv)\n",
    "\n",
    "  grouped_data = data_frame.groupby('city_id', as_index=False).agg(avg_cancellation_rate_pct=('cancellation_rate_pct', 'mean'))\n",
    "\n",
    "  # Create the output file\n",
    "  Path(output_file).parent.mkdir(parents=True, exist_ok=True)\n",
    "\n",
    "  # Save data\n",
    "  grouped_data.to_csv(output_file, index=False)\n",
    "\n",
    "  # Print success message\n",
    "  print(f\"Saved grouped data to: {output_file}\")\n",
    "\n",
    "  return grouped_data\n",
    "\n",
    "compute_average_cancellation_per_city(cancellation_rates_csv=cancellation_rates_csv, output_file=output_file)"
   ]
  }
 ],
 "metadata": {
  "kernelspec": {
   "display_name": "Python 3",
   "language": "python",
   "name": "python3"
  },
  "language_info": {
   "codemirror_mode": {
    "name": "ipython",
    "version": 3
   },
   "file_extension": ".py",
   "mimetype": "text/x-python",
   "name": "python",
   "nbconvert_exporter": "python",
   "pygments_lexer": "ipython3",
   "version": "3.13.3"
  }
 },
 "nbformat": 4,
 "nbformat_minor": 5
}
